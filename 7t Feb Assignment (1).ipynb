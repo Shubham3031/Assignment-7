{
 "cells": [
  {
   "cell_type": "code",
   "execution_count": 6,
   "id": "89cfa94e-ef73-4598-be33-9a0a0e3bf393",
   "metadata": {},
   "outputs": [],
   "source": [
    "# 1.Ans.\n",
    "\n",
    "# Criteria for a Valid Password\n",
    "\n",
    "# -- Must contain atleast 2 uppercase\n",
    "# -- Must contain atleast 2 lowercase\n",
    "# -- Must contain atleast 1 number\n",
    "# -- Must contain atleat 3 special characters\n",
    "# -- Length should be 10 characters long\n",
    "\n",
    "def isValid(password):\n",
    "    if(len(password)<10):\n",
    "        return \"Invalid Password\"\n",
    "    else:\n",
    "        upper_case,lower_case,special,num=0,0,0,0\n",
    "        for i in password:\n",
    "            if(i>='A' and i<='Z'):\n",
    "                upper_case+=1\n",
    "            elif(i>='a' and i<='z'):\n",
    "                lower_case+=1\n",
    "            elif(i>='0' and i<='9'):\n",
    "                num+=1\n",
    "            else:\n",
    "                special+=1\n",
    "        # print(upper_case)\n",
    "        # print(lower_case)\n",
    "        # print(special)\n",
    "        # print(num)\n",
    "        if(upper_case<2 or lower_case<2 or special<3 or num<1):\n",
    "            return \"Invalid Password\"\n",
    "        else:\n",
    "            return \"Valid Password\"\n",
    "    \n"
   ]
  },
  {
   "cell_type": "code",
   "execution_count": 9,
   "id": "e64130a3-57c3-4128-bd16-06ecb5e8a178",
   "metadata": {},
   "outputs": [
    {
     "name": "stdout",
     "output_type": "stream",
     "text": [
      "Valid Password\n"
     ]
    }
   ],
   "source": [
    "password = \"Aabb@#%123B\"\n",
    "print(isValid(password))"
   ]
  },
  {
   "cell_type": "code",
   "execution_count": 18,
   "id": "153ff01b-8527-4d05-9855-b05e5971d138",
   "metadata": {},
   "outputs": [],
   "source": [
    "# 2.Ans.\n",
    " \n",
    "# 1.Check if the string starts with a particular letter\n",
    "\n",
    "startsWithLetter = lambda string ,letter: string.startswith(letter)\n",
    "\n",
    "\n",
    "\n"
   ]
  },
  {
   "cell_type": "code",
   "execution_count": 19,
   "id": "3ac5e5e8-fe5f-4690-8f55-db1819390bd8",
   "metadata": {},
   "outputs": [],
   "source": [
    "String = \"Shubham Mishra\"\n",
    "startsWithS = startsWithLetter(String,\"S\")\n",
    "startsWithA = startsWithLetter(String,\"A\")"
   ]
  },
  {
   "cell_type": "code",
   "execution_count": 23,
   "id": "553983d1-7a85-4713-a89c-fe8447e2ebbc",
   "metadata": {},
   "outputs": [
    {
     "name": "stdout",
     "output_type": "stream",
     "text": [
      "False\n",
      "True\n"
     ]
    }
   ],
   "source": [
    "print(startsWithA)\n",
    "print(startsWithS)\n",
    "      "
   ]
  },
  {
   "cell_type": "code",
   "execution_count": 11,
   "id": "a2dba479-9922-425b-974f-e0544a8631ec",
   "metadata": {},
   "outputs": [
    {
     "name": "stdout",
     "output_type": "stream",
     "text": [
      "True\n",
      "False\n",
      "False\n"
     ]
    }
   ],
   "source": [
    "# 2. Check if the string is numeric\n",
    "\n",
    "is_numeric = lambda string: string.isnumeric()\n",
    "\n",
    "string1 = \"1234\"\n",
    "string2 = \"1.2\"\n",
    "string3 = \"Shubham\"\n",
    "\n",
    "print(is_numeric(string1))  \n",
    "print(is_numeric(string2))  \n",
    "print(is_numeric(string3))  \n",
    "\n",
    "\n"
   ]
  },
  {
   "cell_type": "code",
   "execution_count": 43,
   "id": "76eae7ba-9851-4ed3-babb-0a79baa544c7",
   "metadata": {},
   "outputs": [
    {
     "name": "stdout",
     "output_type": "stream",
     "text": [
      "[('orange', 80), ('mango', 99), ('grapes', 1000)]\n"
     ]
    }
   ],
   "source": [
    "# 3. Sort a list of tuples having fruit names and their quantity. [(\"mango\",99),(\"orange\",80), (\"grapes\", 1000)\n",
    "\n",
    "l =  [(\"mango\",99),(\"orange\",80), (\"grapes\", 1000)]\n",
    "sorted_l = sorted(l,key = lambda x : x[1])\n",
    "print(sorted_l)\n",
    "\n",
    "\n"
   ]
  },
  {
   "cell_type": "code",
   "execution_count": 74,
   "id": "0990428d-bcab-40d0-9499-f352310eb296",
   "metadata": {},
   "outputs": [
    {
     "name": "stdout",
     "output_type": "stream",
     "text": [
      "[1, 4, 9, 16, 25, 36, 49, 64, 81, 100]\n"
     ]
    }
   ],
   "source": [
    "# 4 . Find the squares of numbers from 1 to 10\n",
    "squares = [(lambda x: x**2)(x) for x in range(1, 11)]\n",
    "print(squares)\n",
    "\n",
    "\n",
    "\n",
    "         \n",
    "\n"
   ]
  },
  {
   "cell_type": "code",
   "execution_count": 75,
   "id": "e0adb240-52ad-4b7d-aecc-52cfbb626122",
   "metadata": {},
   "outputs": [
    {
     "name": "stdout",
     "output_type": "stream",
     "text": [
      "[1, 8, 27, 64, 125, 216, 343, 512, 729, 1000]\n"
     ]
    }
   ],
   "source": [
    "# 5.  Find the cube root of numbers from 1 to 10.\n",
    "cubes = [(lambda x:x**3)(x) for x in range(1,11)]\n",
    "print(cubes)"
   ]
  },
  {
   "cell_type": "code",
   "execution_count": 76,
   "id": "f59ecd0b-328e-4ceb-a240-63e428f95b04",
   "metadata": {},
   "outputs": [
    {
     "name": "stdin",
     "output_type": "stream",
     "text": [
      "Enter a number 4\n"
     ]
    },
    {
     "name": "stdout",
     "output_type": "stream",
     "text": [
      "Even\n"
     ]
    }
   ],
   "source": [
    "# 6.Check if a given number is even\n",
    "n = int(input(\"Enter a number\"))\n",
    "is_even = lambda x:x%2==0\n",
    "\n",
    "if is_even(n):\n",
    "    print(\"Even\")\n",
    "else:\n",
    "    print(\"Not even\")\n",
    "\n"
   ]
  },
  {
   "cell_type": "code",
   "execution_count": 87,
   "id": "8a263388-43d1-4de2-9350-1a26328b379d",
   "metadata": {},
   "outputs": [
    {
     "name": "stdout",
     "output_type": "stream",
     "text": [
      "[1, 3, 5, 7, 9]\n"
     ]
    }
   ],
   "source": [
    "# 7.  Filter odd numbers from the given list.\n",
    "numbers = [1, 2, 3, 4, 5, 6, 7, 8, 9, 10]\n",
    "odd_numbers = [num for num in numbers if num % 2 != 0]\n",
    "print(odd_numbers)\n",
    "\n"
   ]
  },
  {
   "cell_type": "code",
   "execution_count": 90,
   "id": "87342b20-1f6b-4d81-aff2-43a173475fef",
   "metadata": {},
   "outputs": [
    {
     "name": "stdout",
     "output_type": "stream",
     "text": [
      "Positive Numbers:  [1, 2, 3, 4, 5, 6, 0]\n",
      "Negative Numbers:  [-1, -2, -3, -4, -5]\n"
     ]
    }
   ],
   "source": [
    "# 8.  Sort a list of integers into positive and negative integers lists.\n",
    "\n",
    "numbers = [1, 2, 3, 4, 5, 6, -1, -2, -3, -4, -5, 0]\n",
    "positive_numbers = [num for num in numbers if num >= 0]\n",
    "negative_numbers = [num for num in numbers if num < 0]\n",
    "print(\"Positive Numbers: \", positive_numbers)\n",
    "print(\"Negative Numbers: \", negative_numbers)\n",
    "\n",
    "\n"
   ]
  }
 ],
 "metadata": {
  "kernelspec": {
   "display_name": "Python 3 (ipykernel)",
   "language": "python",
   "name": "python3"
  },
  "language_info": {
   "codemirror_mode": {
    "name": "ipython",
    "version": 3
   },
   "file_extension": ".py",
   "mimetype": "text/x-python",
   "name": "python",
   "nbconvert_exporter": "python",
   "pygments_lexer": "ipython3",
   "version": "3.10.6"
  }
 },
 "nbformat": 4,
 "nbformat_minor": 5
}
